{
 "cells": [
  {
   "cell_type": "code",
   "execution_count": 48,
   "metadata": {},
   "outputs": [],
   "source": [
    "# Modules\n",
    "import os\n",
    "import csv"
   ]
  },
  {
   "cell_type": "code",
   "execution_count": 49,
   "metadata": {},
   "outputs": [],
   "source": [
    "# Set path for file\n",
    "csvpath = os.path.join(\"budget_data.csv\")"
   ]
  },
  {
   "cell_type": "code",
   "execution_count": 50,
   "metadata": {},
   "outputs": [],
   "source": [
    "# Open the CSV\n",
    "count_months = 0\n",
    "sum_profit = 0\n",
    "change = 0\n",
    "last_profit = 0\n",
    "average_change = 0\n",
    "max_change = 0\n",
    "min_change = 100000000\n",
    "\n",
    "with open(csvpath, newline=\"\") as csvfile:\n",
    "    csvreader = csv.reader(csvfile, delimiter=\",\")\n",
    "    # Skip the titles of the file\n",
    "    next(csvreader)\n",
    "    for row in csvreader:\n",
    "        # Counts the number of months\n",
    "        count_months += 1\n",
    "        # Summarizes the total of profits\n",
    "        sum_profit  += float(row[1])\n",
    "        if count_months == 1:\n",
    "            # print(row[0], row[1], last_profit, change, average_change)\n",
    "            last_profit = float(row[1])\n",
    "        else:\n",
    "            # Calculates the change in profits and cumulates the\n",
    "            # value to calculate the average\n",
    "            change = float(row[1]) - last_profit\n",
    "            average_change += change\n",
    "            #print(row[0], row[1], last_profit, change, average_change)\n",
    "            last_profit = float(row[1])\n",
    "        # Keeps track of the greatest increase in profits\n",
    "        if change > max_change :\n",
    "            max_change = change\n",
    "            max_change_date = row[0]\n",
    "        # Keeps track of the greatest decrease in profits\n",
    "        if change < min_change :\n",
    "            min_change = change\n",
    "            min_change_date = row[0]\n",
    "# Calculates the average with the total change divided by the number of \n",
    "# months, excluding the first row that does not contained any changes\n",
    "average_change = average_change / (count_months-1)"
   ]
  },
  {
   "cell_type": "code",
   "execution_count": 51,
   "metadata": {},
   "outputs": [
    {
     "name": "stdout",
     "output_type": "stream",
     "text": [
      "Financial Analysis\n",
      "----------------------------------------------------------------------------------\n",
      "Total Months:\t\t\t86\n",
      "Average Change: \t\t$-2,315.12\n",
      "Total: \t\t\t\t$38,382,578\n",
      "Greatest Increase in Profits:\tFeb-2012 \t($1,926,159)\n",
      "Greatest Increase in Profits: \tSep-2013 \t($-2,196,167)\n"
     ]
    }
   ],
   "source": [
    "print('Financial Analysis')\n",
    "print('----------------------------------------------------------------------------------')\n",
    "print(f'Total Months:\\t\\t\\t{count_months}')\n",
    "print(f'Average Change: \\t\\t${average_change:0,.2f}')\n",
    "print(f'Total: \\t\\t\\t\\t${sum_profit:0,.0f}')\n",
    "print(f'Greatest Increase in Profits:\\t{max_change_date} \\t(${max_change:0,.0f})')\n",
    "print(f'Greatest Increase in Profits: \\t{min_change_date} \\t(${min_change:0,.0f})')"
   ]
  },
  {
   "cell_type": "code",
   "execution_count": 68,
   "metadata": {},
   "outputs": [
    {
     "name": "stdout",
     "output_type": "stream",
     "text": [
      "----------------------------------------------------------------------------------\n",
      "Method 1: The file \"Results_Screen.txt\" has been created with the results\n"
     ]
    }
   ],
   "source": [
    "# Method 1: Same as output on screen\n",
    "# Set variable for output file\n",
    "output_file = os.path.join(\"Results_Screen.txt\")\n",
    "\n",
    "#  Open the output file\n",
    "with open(output_file, \"w\", newline=\"\") as datafile:  \n",
    "    datafile.write('Financial Analysis\\n')\n",
    "    datafile.write('----------------------------------------------------------------------------------\\n')\n",
    "    datafile.write(f'Total Months:\\t\\t\\t{count_months}\\n')\n",
    "    datafile.write(f'Average Change: \\t\\t${average_change:0,.2f}\\n')\n",
    "    datafile.write(f'Total: \\t\\t\\t\\t${sum_profit:0,.0f}\\n')\n",
    "    datafile.write(f'Greatest Increase in Profits:\\t{max_change_date} \\t(${max_change:0,.0f})\\n')\n",
    "    datafile.write(f'Greatest Increase in Profits: \\t{min_change_date} \\t(${min_change:0,.0f})')\n",
    "\n",
    "print('----------------------------------------------------------------------------------')\n",
    "print (f'Method 1: The file \"{output_file}\" has been created with the results')   "
   ]
  },
  {
   "cell_type": "code",
   "execution_count": 52,
   "metadata": {},
   "outputs": [
    {
     "name": "stdout",
     "output_type": "stream",
     "text": [
      "----------------------------------------------------------------------------------\n",
      "Method 1: The file \"Results_Line_by_Line.csv\" has been created with the results\n"
     ]
    }
   ],
   "source": [
    "# Method 2: Save csv file Line by Line\n",
    "# Set variable for output file\n",
    "output_file = os.path.join(\"Results_Line_by_Line.csv\")\n",
    "\n",
    "#  Open the output file\n",
    "with open(output_file, \"w\", newline=\"\") as datafile:\n",
    "    csvwriter = csv.writer(datafile)\n",
    "    csvwriter.writerow(['Financial Analysis', '', ''])\n",
    "    csvwriter.writerow(['------------------', '', ''])\n",
    "    csvwriter.writerow(['Total Months', count_months, ''])\n",
    "    csvwriter.writerow(['Average Change', \"%.2f\" % average_change, ''])\n",
    "    csvwriter.writerow(['Greatest Increase in Profits', max_change_date, \"%.0f\" % max_change])\n",
    "    csvwriter.writerow(['Greatest Decrease in Profits', min_change_date, \"%.0f\" % min_change])\n",
    "\n",
    "print('----------------------------------------------------------------------------------')\n",
    "print (f'Method 2: The file \"{output_file}\" has been created with the results')"
   ]
  },
  {
   "cell_type": "code",
   "execution_count": 63,
   "metadata": {},
   "outputs": [
    {
     "name": "stdout",
     "output_type": "stream",
     "text": [
      "----------------------------------------------------------------------------------\n",
      "Method 2: The file \"Results_Dictionary.csv\" has been created with the results\n",
      "----------------------------------------------------------------------------------\n"
     ]
    }
   ],
   "source": [
    "# Method 3: Save csv file using dictionaries\n",
    "\n",
    "financial_analisys = {\n",
    "    \"Total Months\": count_months,\n",
    "    \"Average Change\": \"%.2f\" % average_change,\n",
    "    \"Date of Greatest Increase in Profits\" : max_change_date,\n",
    "    \"Greatest Increase in Profits\" : \"%.0f\" % max_change,\n",
    "    \"Date of Greatest Decrease in Profits\" : min_change_date,\n",
    "    \"Greatest Decrease in Profits\" : \"%.0f\" % min_change\n",
    "}\n",
    "\n",
    "# Set variable for output file\n",
    "output_file = os.path.join(\"Results_Dictionary.csv\")\n",
    "\n",
    "#  Open the output file\n",
    "with open(output_file, \"w\", newline=\"\") as datafile:\n",
    "    csvwriter = csv.writer(datafile)\n",
    "    for row in financial_analisys.items():\n",
    "        csvwriter.writerow([row[0],row[1]])\n",
    "print('----------------------------------------------------------------------------------')\n",
    "print (f'Method 3: The file \"{output_file}\" has been created with the results')\n",
    "print('----------------------------------------------------------------------------------')"
   ]
  }
 ],
 "metadata": {
  "kernelspec": {
   "display_name": "Python 3",
   "language": "python",
   "name": "python3"
  },
  "language_info": {
   "codemirror_mode": {
    "name": "ipython",
    "version": 3
   },
   "file_extension": ".py",
   "mimetype": "text/x-python",
   "name": "python",
   "nbconvert_exporter": "python",
   "pygments_lexer": "ipython3",
   "version": "3.7.3"
  }
 },
 "nbformat": 4,
 "nbformat_minor": 2
}
