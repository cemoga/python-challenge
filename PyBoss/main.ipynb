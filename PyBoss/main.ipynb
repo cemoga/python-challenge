{
 "cells": [
  {
   "cell_type": "code",
   "execution_count": 82,
   "metadata": {},
   "outputs": [],
   "source": [
    "# Modules\n",
    "import os\n",
    "import csv\n",
    "import datetime"
   ]
  },
  {
   "cell_type": "code",
   "execution_count": 83,
   "metadata": {},
   "outputs": [],
   "source": [
    "# Set path for file\n",
    "csvpath = os.path.join(\"employee_data.csv\")"
   ]
  },
  {
   "cell_type": "code",
   "execution_count": 89,
   "metadata": {},
   "outputs": [],
   "source": [
    "# Open the CSV\n",
    "\n",
    "emp_id = []\n",
    "name = []\n",
    "dob = []\n",
    "ssn = []\n",
    "state = []\n",
    "\n",
    "with open(csvpath, newline=\"\") as csvfile:\n",
    "    csvreader = csv.reader(csvfile, delimiter=\",\")\n",
    "    # Skip the titles of the file\n",
    "    next(csvreader)\n",
    "    for row in csvreader:\n",
    "        emp_id.append(row[0])\n",
    "        name.append(row[1])\n",
    "        dob.append(row[2])\n",
    "        ssn.append(row[3])\n",
    "        state.append(row[4])\n",
    "        # print (row)"
   ]
  },
  {
   "cell_type": "code",
   "execution_count": 90,
   "metadata": {},
   "outputs": [],
   "source": [
    "# US States Dictionary\n",
    "us_state_abbrev = {\n",
    "    'Alabama': 'AL',\n",
    "    'Alaska': 'AK',\n",
    "    'Arizona': 'AZ',\n",
    "    'Arkansas': 'AR',\n",
    "    'California': 'CA',\n",
    "    'Colorado': 'CO',\n",
    "    'Connecticut': 'CT',\n",
    "    'Delaware': 'DE',\n",
    "    'Florida': 'FL',\n",
    "    'Georgia': 'GA',\n",
    "    'Hawaii': 'HI',\n",
    "    'Idaho': 'ID',\n",
    "    'Illinois': 'IL',\n",
    "    'Indiana': 'IN',\n",
    "    'Iowa': 'IA',\n",
    "    'Kansas': 'KS',\n",
    "    'Kentucky': 'KY',\n",
    "    'Louisiana': 'LA',\n",
    "    'Maine': 'ME',\n",
    "    'Maryland': 'MD',\n",
    "    'Massachusetts': 'MA',\n",
    "    'Michigan': 'MI',\n",
    "    'Minnesota': 'MN',\n",
    "    'Mississippi': 'MS',\n",
    "    'Missouri': 'MO',\n",
    "    'Montana': 'MT',\n",
    "    'Nebraska': 'NE',\n",
    "    'Nevada': 'NV',\n",
    "    'New Hampshire': 'NH',\n",
    "    'New Jersey': 'NJ',\n",
    "    'New Mexico': 'NM',\n",
    "    'New York': 'NY',\n",
    "    'North Carolina': 'NC',\n",
    "    'North Dakota': 'ND',\n",
    "    'Ohio': 'OH',\n",
    "    'Oklahoma': 'OK',\n",
    "    'Oregon': 'OR',\n",
    "    'Pennsylvania': 'PA',\n",
    "    'Rhode Island': 'RI',\n",
    "    'South Carolina': 'SC',\n",
    "    'South Dakota': 'SD',\n",
    "    'Tennessee': 'TN',\n",
    "    'Texas': 'TX',\n",
    "    'Utah': 'UT',\n",
    "    'Vermont': 'VT',\n",
    "    'Virginia': 'VA',\n",
    "    'Washington': 'WA',\n",
    "    'West Virginia': 'WV',\n",
    "    'Wisconsin': 'WI',\n",
    "    'Wyoming': 'WY',\n",
    "}"
   ]
  },
  {
   "cell_type": "code",
   "execution_count": 91,
   "metadata": {},
   "outputs": [],
   "source": [
    "# Modify through comprenhensions\n",
    "new_emp_id = [employee for employee in emp_id]\n",
    "new_name =[employee.split(' ', 1)[0] for employee in name]\n",
    "new_last_name = [employee.split(' ', 1)[1] for employee in name]\n",
    "#new_dob = [employee for employee in dob]\n",
    "# Convert the text to date\n",
    "new_dob = [datetime.datetime.strptime(employee, \"%Y-%m-%d\") for employee in dob]\n",
    "# Convert the date to a specific format - Needs to have brackets to make it work\n",
    "new_dob = [datetime.datetime.strftime(employee, \"%m-%d-%Y\") for employee in new_dob]\n",
    "new_ssn = [(\"***-**-\" + employee[-4:]) for employee in ssn]\n",
    "new_state = [us_state_abbrev.get(employee) for employee in state]"
   ]
  },
  {
   "cell_type": "code",
   "execution_count": 92,
   "metadata": {},
   "outputs": [],
   "source": [
    "# Zip all three lists together into tuples\n",
    "new_employee_data = zip(new_emp_id, new_name, new_last_name, new_dob, new_ssn, new_state)"
   ]
  },
  {
   "cell_type": "code",
   "execution_count": 93,
   "metadata": {},
   "outputs": [],
   "source": [
    "#Set variable for output file\n",
    "output_file = os.path.join(\"employee_data_modified.csv\")\n",
    "        \n",
    "# open the output file, create a header row, and then write the zipped object to the csv\n",
    "with open(output_file, \"w\", newline=\"\") as datafile:\n",
    "    csvwriter = csv.writer(datafile)\n",
    "    # Write the first row (column headers)\n",
    "    csvwriter.writerow(['Emp ID','First Name','Last Name','DOB','SSN','State'])\n",
    "    # write the zipped object to the csv\n",
    "    csvwriter.writerows(new_employee_data)"
   ]
  }
 ],
 "metadata": {
  "kernelspec": {
   "display_name": "Python 3",
   "language": "python",
   "name": "python3"
  },
  "language_info": {
   "codemirror_mode": {
    "name": "ipython",
    "version": 3
   },
   "file_extension": ".py",
   "mimetype": "text/x-python",
   "name": "python",
   "nbconvert_exporter": "python",
   "pygments_lexer": "ipython3",
   "version": "3.7.3"
  }
 },
 "nbformat": 4,
 "nbformat_minor": 2
}
