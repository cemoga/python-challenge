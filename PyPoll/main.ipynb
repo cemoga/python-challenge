{
 "cells": [
  {
   "cell_type": "code",
   "execution_count": 288,
   "metadata": {},
   "outputs": [],
   "source": [
    "# Modules\n",
    "import os\n",
    "import csv"
   ]
  },
  {
   "cell_type": "code",
   "execution_count": 289,
   "metadata": {},
   "outputs": [],
   "source": [
    "# Set path for file\n",
    "csvpath = os.path.join(\"election_data.csv\")"
   ]
  },
  {
   "cell_type": "code",
   "execution_count": 290,
   "metadata": {},
   "outputs": [],
   "source": [
    "# Open the CSV\n",
    "\n",
    "count_votes = 0\n",
    "candidates = []\n",
    "votes = []\n",
    "\n",
    "with open(csvpath, newline=\"\") as csvfile:\n",
    "    csvreader = csv.reader(csvfile, delimiter=\",\")\n",
    "    # Skip the titles of the file\n",
    "    next(csvreader)\n",
    "    for row in csvreader:\n",
    "        # Counts the number of votes\n",
    "        count_votes += 1\n",
    "        # Verifies if the candidate does not exist\n",
    "        if (row[2] in candidates) == False: \n",
    "            # Add the candidate to the list\n",
    "            candidates.append(row[2]) \n",
    "            # Add a position in the list of votes to count them\n",
    "            votes.append(0) \n",
    "            \n",
    "        # Looks for the index of the candidate of the loop in the list of candidates\n",
    "        index = candidates.index(row[2]) \n",
    "        # Adds a vote in the list of votes in the same order than the list of candidates\n",
    "        votes[index] += 1"
   ]
  },
  {
   "cell_type": "code",
   "execution_count": 291,
   "metadata": {},
   "outputs": [],
   "source": [
    "# Calculates the percentage of votes and stores it to a list using comprehensions\n",
    "votes_percentage = [vote / count_votes for vote in votes]"
   ]
  },
  {
   "cell_type": "code",
   "execution_count": 292,
   "metadata": {},
   "outputs": [],
   "source": [
    "# Calculates the winner\n",
    "max([100,2,110,4,5,110])\n",
    "# Max number of votes\n",
    "max_votes = max(votes)\n",
    "# Index of max number of votes\n",
    "index_max_votes = votes.index(max_votes)\n",
    "# Return the candidate with max number of votes\n",
    "winner = candidates[index_max_votes]"
   ]
  },
  {
   "cell_type": "code",
   "execution_count": 293,
   "metadata": {},
   "outputs": [
    {
     "name": "stdout",
     "output_type": "stream",
     "text": [
      "Election Results\n",
      "--------------------------------------\n",
      "Total Votes:    100.00%\t 3,521,001\n",
      "--------------------------------------\n",
      "Khan      \t63.00%\t(2,218,231)\n",
      "Correy      \t20.00%\t(704,200)\n",
      "Li      \t14.00%\t(492,940)\n",
      "O'Tooley      \t3.00%\t(105,630)\n",
      "--------------------------------------\n",
      "Winner: \tKhan\n",
      "--------------------------------------\n"
     ]
    }
   ],
   "source": [
    "# Print the results\n",
    "print('Election Results')\n",
    "print('--------------------------------------')\n",
    "print(f'Total Votes:    100.00%\\t {count_votes:0,.0f}')\n",
    "print('--------------------------------------')\n",
    "for x in range(len(candidates)):\n",
    "  print(f'{candidates[x]}      \\t{votes_percentage[x]:.2%}\\t({votes[x]:0,.0f})')\n",
    "print('--------------------------------------')\n",
    "print(f'Winner: \\t{winner}')\n",
    "print('--------------------------------------')"
   ]
  },
  {
   "cell_type": "code",
   "execution_count": 297,
   "metadata": {},
   "outputs": [
    {
     "name": "stdout",
     "output_type": "stream",
     "text": [
      "Method 1: The file \"Results_Screen.txt\" has been created with the results\n"
     ]
    }
   ],
   "source": [
    "# Method 1: Same as output on screen\n",
    "# Set variable for output file\n",
    "output_file = os.path.join(\"Results_Screen.txt\")\n",
    "\n",
    "#  Open the output file\n",
    "with open(output_file, \"w\", newline=\"\") as datafile:\n",
    "    datafile.write('Election Results\\n')\n",
    "    datafile.write('--------------------------------------\\n')\n",
    "    datafile.write(f'Total Votes:    100.00%\\t {count_votes:0,.0f}\\n')\n",
    "    datafile.write('--------------------------------------\\n')\n",
    "    for x in range(len(candidates)):\n",
    "        datafile.write(f'{candidates[x]}      \\t{votes_percentage[x]:.2%}\\t({votes[x]:0,.0f})\\n')\n",
    "    datafile.write('--------------------------------------\\n')\n",
    "    datafile.write(f'Winner: \\t{winner}\\n')\n",
    "    datafile.write('--------------------------------------\\n')\n",
    "print (f'Method 1: The file \"{output_file}\" has been created with the results')   "
   ]
  },
  {
   "cell_type": "code",
   "execution_count": 295,
   "metadata": {},
   "outputs": [
    {
     "name": "stdout",
     "output_type": "stream",
     "text": [
      "Method 2: The file \"Results_Line_by_Line.csv\" has been created with the results\n"
     ]
    }
   ],
   "source": [
    "# Save the results to a file\n",
    "# Method 2: Save csv file Line by Line\n",
    "# Set variable for output file\n",
    "output_file = os.path.join(\"Results_Line_by_Line.csv\")\n",
    "\n",
    "#  Open the output file\n",
    "with open(output_file, \"w\", newline=\"\") as datafile:\n",
    "    csvwriter = csv.writer(datafile)\n",
    "    csvwriter.writerow(['Election Results', '', ''])\n",
    "    csvwriter.writerow(['------------------', '', ''])\n",
    "    csvwriter.writerow(['Total Votes', \"%.0f\" % count_votes, ''])\n",
    "    csvwriter.writerow(['------------------', '', ''])\n",
    "    for x in range(len(candidates)):\n",
    "        csvwriter.writerow([candidates[x], \"%.2f%%\" %  (votes_percentage[x]*100) , \"%.0f\" % votes[x] ])\n",
    "    csvwriter.writerow(['------------------', '', ''])\n",
    "    csvwriter.writerow(['Winner', winner, ''])    \n",
    "    csvwriter.writerow(['------------------', '', ''])\n",
    "print (f'Method 2: The file \"{output_file}\" has been created with the results')   "
   ]
  },
  {
   "cell_type": "code",
   "execution_count": 296,
   "metadata": {},
   "outputs": [
    {
     "name": "stdout",
     "output_type": "stream",
     "text": [
      "Method 3: The file \"Results_Dictionary.csv\" has been created with the results\n"
     ]
    }
   ],
   "source": [
    "# Method 3: Save csv file using dictionaries\n",
    "# Creates a dictionary with the basic information\n",
    "election_results = {\n",
    "    \"Total Votes\": \"%.0f\" % count_votes,\n",
    "    \"Winner\" : winner\n",
    "}\n",
    "# Adds number of votes per candidate to the dictionary\n",
    "for x in range(len(candidates)):\n",
    "    election_results.update({(candidates[x] + \" Votes\"): \"%.0f\" % votes[x]})\n",
    "# Adds percentage of votes to the dictionary\n",
    "for x in range(len(candidates)):\n",
    "    election_results.update({(candidates[x] + \" Percentage\"): (\"%.2f%%\" %  (votes_percentage[x]*100))})\n",
    "    \n",
    "# Set variable for output file\n",
    "output_file = os.path.join(\"Results_Dictionary.csv\")\n",
    "\n",
    "#  Open the output file\n",
    "with open(output_file, \"w\", newline=\"\") as datafile:\n",
    "    csvwriter = csv.writer(datafile)\n",
    "    for row in election_results.items():\n",
    "        csvwriter.writerow([row[0],row[1]])\n",
    "print (f'Method 3: The file \"{output_file}\" has been created with the results')   "
   ]
  }
 ],
 "metadata": {
  "kernelspec": {
   "display_name": "Python 3",
   "language": "python",
   "name": "python3"
  },
  "language_info": {
   "codemirror_mode": {
    "name": "ipython",
    "version": 3
   },
   "file_extension": ".py",
   "mimetype": "text/x-python",
   "name": "python",
   "nbconvert_exporter": "python",
   "pygments_lexer": "ipython3",
   "version": "3.7.3"
  }
 },
 "nbformat": 4,
 "nbformat_minor": 2
}
